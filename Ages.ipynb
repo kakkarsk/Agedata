{
 "cells": [
  {
   "cell_type": "code",
   "execution_count": 1,
   "metadata": {},
   "outputs": [
    {
     "name": "stdout",
     "output_type": "stream",
     "text": [
      "mean: 9.857142857142858\n",
      "median: 10.0\n",
      "variance: 6.408163265306122\n",
      "std.deviation: 2.531435020952764\n",
      "standard error: 1.0334540197243194\n",
      "mode is 8\n"
     ]
    }
   ],
   "source": [
    "import numpy as np\n",
    "ages =[14,12,11,10,8,6,8]\n",
    "print (\"mean:\",np.mean(ages))\n",
    "print(\"median:\",np.median(ages))\n",
    "print(\"variance:\",np.var(ages))\n",
    "print(\"std.deviation:\",np.std(ages))\n",
    "print(\"standard error:\",np.std(ages)/np.sqrt(len(ages)-1))\n",
    "print(\"mode is 8\")\n"
   ]
  },
  {
   "cell_type": "markdown",
   "metadata": {},
   "source": [
    "next cindy has birthday so she turns 7 , and now the ages will be \n",
    "14,12,11,10,8,7,8"
   ]
  },
  {
   "cell_type": "code",
   "execution_count": 2,
   "metadata": {},
   "outputs": [
    {
     "name": "stdout",
     "output_type": "stream",
     "text": [
      "mean: 9.857142857142858\n",
      "median: 10.0\n",
      "variance: 6.408163265306122\n",
      "std.deviation: 2.531435020952764\n",
      "standard error: 1.0334540197243194\n",
      "mode is 8\n"
     ]
    }
   ],
   "source": [
    "age =[14,12,11,10,8,7,8]\n",
    "print (\"mean:\",np.mean(ages))\n",
    "print(\"median:\",np.median(ages))\n",
    "print(\"variance:\",np.var(ages))\n",
    "print(\"std.deviation:\",np.std(ages))\n",
    "print(\"standard error:\",np.std(ages)/np.sqrt(len(ages)-1))\n",
    "print(\"mode is 8\")\n"
   ]
  },
  {
   "cell_type": "markdown",
   "metadata": {},
   "source": [
    "next taking ages2 as an example to replace cousin oliver with jessica so, there is no mode in this."
   ]
  },
  {
   "cell_type": "code",
   "execution_count": 3,
   "metadata": {},
   "outputs": [
    {
     "name": "stdout",
     "output_type": "stream",
     "text": [
      "mean: 9.0\n",
      "median: 10.0\n",
      "variance: 15.428571428571429\n",
      "std.deviation: 3.927922024247863\n",
      "standard error: 1.6035674514745466\n",
      "There is no mode\n"
     ]
    }
   ],
   "source": [
    "ages2 =[14,12,11,10,8,7,1]\n",
    "print (\"mean:\",np.mean(ages2))\n",
    "print(\"median:\",np.median(ages2))\n",
    "print(\"variance:\",np.var(ages2))\n",
    "print(\"std.deviation:\",np.std(ages2))\n",
    "print(\"standard error:\",np.std(ages2)/np.sqrt(len(ages)-1))\n",
    "print(\"There is no mode\")"
   ]
  },
  {
   "cell_type": "markdown",
   "metadata": {},
   "source": [
    "SO as per the above statement it is shown , there is nomode in it.\n",
    "mean and median are about to be same."
   ]
  }
 ],
 "metadata": {
  "kernelspec": {
   "display_name": "Python 3",
   "language": "python",
   "name": "python3"
  },
  "language_info": {
   "codemirror_mode": {
    "name": "ipython",
    "version": 3
   },
   "file_extension": ".py",
   "mimetype": "text/x-python",
   "name": "python",
   "nbconvert_exporter": "python",
   "pygments_lexer": "ipython3",
   "version": "3.6.5"
  }
 },
 "nbformat": 4,
 "nbformat_minor": 2
}
